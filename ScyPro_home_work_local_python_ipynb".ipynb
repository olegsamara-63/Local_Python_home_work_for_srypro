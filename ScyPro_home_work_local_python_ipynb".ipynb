{
  "nbformat": 4,
  "nbformat_minor": 0,
  "metadata": {
    "colab": {
      "provenance": [],
      "authorship_tag": "ABX9TyNGY1Xh3nKjdB9IE+wANztP",
      "include_colab_link": true
    },
    "kernelspec": {
      "name": "python3",
      "display_name": "Python 3"
    },
    "language_info": {
      "name": "python"
    }
  },
  "cells": [
    {
      "cell_type": "markdown",
      "metadata": {
        "id": "view-in-github",
        "colab_type": "text"
      },
      "source": [
        "<a href=\"https://colab.research.google.com/github/olegsamara-63/Local_Python_home_work_for_srypro/blob/main/ScyPro_home_work_local_python_ipynb%22.ipynb\" target=\"_parent\"><img src=\"https://colab.research.google.com/assets/colab-badge.svg\" alt=\"Open In Colab\"/></a>"
      ]
    },
    {
      "cell_type": "code",
      "execution_count": null,
      "metadata": {
        "colab": {
          "base_uri": "https://localhost:8080/"
        },
        "id": "pTNi1pvV-Nfl",
        "outputId": "1e63ba41-e222-458f-9b58-b5ef7db1aa82"
      },
      "outputs": [
        {
          "output_type": "stream",
          "name": "stdout",
          "text": [
            "Файл words.txt создан и заполнен словами.\n",
            "Угадайте слово: pthyon\n",
            "Ваш ответ: Python\n",
            "Верно! Вы получаете 10 очков.\n",
            "Угадайте слово: uiqrrels\n",
            "Ваш ответ: sggfy\n",
            "Неверно! Правильное слово: squirrel\n",
            "Угадайте слово: lfksa\n",
            "Ваш ответ: flask\n",
            "Верно! Вы получаете 10 очков.\n",
            "Угадайте слово: rcsbeumuc\n",
            "Ваш ответ: cucumbers\n",
            "Верно! Вы получаете 10 очков.\n",
            "\n",
            "Игра завершена!\n",
            "Ваш итоговый счет: 30\n",
            "Введите ваше имя для сохранения результата: Sven\n",
            "Ваш результат сохранен в файл history.txt.\n",
            "\n",
            "Статистика игр:\n",
            "Уважаемый Sven, Вами сыграно игр всего: 1\n",
            "Максимальный рекорд: 30\n"
          ]
        }
      ],
      "source": [
        "# @title\n",
        "import random\n",
        "import os\n",
        "\n",
        "# Функция для перемешивания букв в выбранном случайно слове из задания\n",
        "def shuffle_word(word):\n",
        "    letters = list(word)\n",
        "    random.shuffle(letters)\n",
        "    return ''.join(letters)\n",
        "\n",
        "# Проверка существования файла words.txt\n",
        "if not os.path.exists(\"words.txt\"):\n",
        "    # файл words.txt на каком либо компьютере скорее всего\n",
        "    # отсутствует, поэтому создаем его и заполняем словами из задания\n",
        "    with open(\"words.txt\", \"w\") as file:\n",
        "        file.write(\"python\\nsquirrel\\nflask\\ncucumbers\\n\")\n",
        "    print(\"Файл words.txt создан и заполнен словами.\")\n",
        "\n",
        "# Чтение слов из файла\n",
        "try:\n",
        "    with open(\"words.txt\", \"r\") as file:\n",
        "        words = file.read().splitlines()\n",
        "except FileNotFoundError:\n",
        "    print(\"Ошибка: файл words.txt не найден.\")\n",
        "    exit()  # Завершаем програму, если файл отсутствует\n",
        "\n",
        "# Инициализация счета пользователя, того, кто сейчас угадывает слова\n",
        "score = 0\n",
        "\n",
        "# Основной цикл программы\n",
        "for word in words:\n",
        "    # Перемешивание букв в слове\n",
        "    shuffled_word = shuffle_word(word)\n",
        "\n",
        "    # Предложение пользователю угадать слово\n",
        "    print(f\"Угадайте слово: {shuffled_word}\")\n",
        "    user_guess = input(\"Ваш ответ: \").lower()\n",
        "\n",
        "    # Проверка ответа пользователя, угадал тогда == word или нет\n",
        "    if user_guess == word:\n",
        "        print(\"Верно! Вы получаете 10 очков.\")\n",
        "        score += 10\n",
        "    else:\n",
        "        print(f\"Неверно! Правильное слово: {word}\")\n",
        "\n",
        "# Когда все слова заканчиваются , тогда ...вывод сообщения и счёта\n",
        "print(\"\\nИгра завершена!\")\n",
        "print(f\"Ваш итоговый счет: {score}\")\n",
        "\n",
        "# Запрос имени пользователя - что бы знать кому говорить\n",
        "# счёт и что бы знать как обращаться к пользователю, кто играл\n",
        "user_name = input(\"Введите ваше имя для сохранения результата: \").capitalize()\n",
        "\n",
        "# Запись результата в файл history.txt\n",
        "with open(\"history.txt\", \"a\") as history_file:\n",
        "    history_file.write(f\"{user_name} , ваш результат -  {score}\\n\")\n",
        "\n",
        "print(\"Ваш результат сохранен в файл history.txt.\")\n",
        "\n",
        "# Чтение истории результатов для вывода статистики\n",
        "try:\n",
        "    with open(\"history.txt\", \"r\") as history_file:\n",
        "        lines = history_file.readlines()\n",
        "except FileNotFoundError:\n",
        "    # Если файл \"history.txt\" не существует,\n",
        "    # а такой файл на компе точно вряд ли кто то создавал раньше,\n",
        "    # то создаем его и начинаем с пустого списка\n",
        "    lines = []\n",
        "    with open(\"history.txt\", \"w\") as history_file:\n",
        "        pass  # Создаем пустой файл\n",
        "\n",
        "# Подсчет общего количества игр и максимального рекорда\n",
        "total_games = len(lines)\n",
        "max_score = max(int(line.split()[-1]) for line in lines) if lines else 0\n",
        "\n",
        "# Вывод статистики - сколько штук игр, и максимально,\n",
        "# что на-прибавляла прибавлялка из 39-ой строки\n",
        "\n",
        "print(\"\\nСтатистика игр:\")\n",
        "print(f\"Уважаемый {user_name}, Вами сыграно игр всего: {total_games}\")\n",
        "print(f\"Максимальный рекорд: {max_score}\")\n"
      ]
    }
  ]
}